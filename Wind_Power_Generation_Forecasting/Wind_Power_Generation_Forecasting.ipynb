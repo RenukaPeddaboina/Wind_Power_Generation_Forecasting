{
 "cells": [
  {
   "cell_type": "markdown",
   "id": "b782bc13-c048-4fe7-b16e-62b96d83ca32",
   "metadata": {},
   "source": [
    "# Wind Power Generation Forecasting"
   ]
  },
  {
   "cell_type": "markdown",
   "id": "6a56cce7-4ea5-4934-90c0-f75420db9824",
   "metadata": {},
   "source": [
    "pip install pandas numpy scikit-learn matplotlib seaborn"
   ]
  },
  {
   "cell_type": "code",
   "execution_count": 24,
   "id": "e5c8b621-0a12-480a-af18-ff45ea53b331",
   "metadata": {},
   "outputs": [],
   "source": [
    "# importing all the necessary libraries\n",
    "import pandas as pd\n",
    "import numpy as np\n",
    "import matplotlib.pyplot as plt\n",
    "import seaborn as sns\n",
    "from sklearn.model_selection import train_test_split\n",
    "from sklearn.preprocessing import StandardScaler"
   ]
  },
  {
   "cell_type": "code",
   "execution_count": 25,
   "id": "9b8a30eb-2bf6-4d86-8caa-385abb4e262e",
   "metadata": {},
   "outputs": [],
   "source": [
    "#Load the csv(Dataset) files\n",
    "location1 = pd.read_csv('Location1.csv')\n",
    "location2 = pd.read_csv('Location2.csv')\n",
    "location3 = pd.read_csv('Location3.csv')\n",
    "location4 = pd.read_csv('Location4.csv')"
   ]
  },
  {
   "cell_type": "code",
   "execution_count": 26,
   "id": "76eca45a-0710-41d4-91cf-d40a7b9faf33",
   "metadata": {},
   "outputs": [
    {
     "data": {
      "text/html": [
       "<div>\n",
       "<style scoped>\n",
       "    .dataframe tbody tr th:only-of-type {\n",
       "        vertical-align: middle;\n",
       "    }\n",
       "\n",
       "    .dataframe tbody tr th {\n",
       "        vertical-align: top;\n",
       "    }\n",
       "\n",
       "    .dataframe thead th {\n",
       "        text-align: right;\n",
       "    }\n",
       "</style>\n",
       "<table border=\"1\" class=\"dataframe\">\n",
       "  <thead>\n",
       "    <tr style=\"text-align: right;\">\n",
       "      <th></th>\n",
       "      <th>Time</th>\n",
       "      <th>temperature_2m</th>\n",
       "      <th>relativehumidity_2m</th>\n",
       "      <th>dewpoint_2m</th>\n",
       "      <th>windspeed_10m</th>\n",
       "      <th>windspeed_100m</th>\n",
       "      <th>winddirection_10m</th>\n",
       "      <th>winddirection_100m</th>\n",
       "      <th>windgusts_10m</th>\n",
       "      <th>Power</th>\n",
       "    </tr>\n",
       "  </thead>\n",
       "  <tbody>\n",
       "    <tr>\n",
       "      <th>0</th>\n",
       "      <td>2017-01-02 00:00:00</td>\n",
       "      <td>28.5</td>\n",
       "      <td>85</td>\n",
       "      <td>24.5</td>\n",
       "      <td>1.44</td>\n",
       "      <td>1.26</td>\n",
       "      <td>146</td>\n",
       "      <td>162</td>\n",
       "      <td>1.4</td>\n",
       "      <td>0.1635</td>\n",
       "    </tr>\n",
       "    <tr>\n",
       "      <th>1</th>\n",
       "      <td>2017-01-02 01:00:00</td>\n",
       "      <td>28.4</td>\n",
       "      <td>86</td>\n",
       "      <td>24.7</td>\n",
       "      <td>2.06</td>\n",
       "      <td>3.99</td>\n",
       "      <td>151</td>\n",
       "      <td>158</td>\n",
       "      <td>4.4</td>\n",
       "      <td>0.1424</td>\n",
       "    </tr>\n",
       "    <tr>\n",
       "      <th>2</th>\n",
       "      <td>2017-01-02 02:00:00</td>\n",
       "      <td>26.8</td>\n",
       "      <td>91</td>\n",
       "      <td>24.5</td>\n",
       "      <td>1.30</td>\n",
       "      <td>2.78</td>\n",
       "      <td>148</td>\n",
       "      <td>150</td>\n",
       "      <td>3.2</td>\n",
       "      <td>0.1214</td>\n",
       "    </tr>\n",
       "    <tr>\n",
       "      <th>3</th>\n",
       "      <td>2017-01-02 03:00:00</td>\n",
       "      <td>27.4</td>\n",
       "      <td>88</td>\n",
       "      <td>24.3</td>\n",
       "      <td>1.30</td>\n",
       "      <td>2.69</td>\n",
       "      <td>58</td>\n",
       "      <td>105</td>\n",
       "      <td>1.6</td>\n",
       "      <td>0.1003</td>\n",
       "    </tr>\n",
       "    <tr>\n",
       "      <th>4</th>\n",
       "      <td>2017-01-02 04:00:00</td>\n",
       "      <td>27.3</td>\n",
       "      <td>88</td>\n",
       "      <td>24.1</td>\n",
       "      <td>2.47</td>\n",
       "      <td>4.43</td>\n",
       "      <td>58</td>\n",
       "      <td>84</td>\n",
       "      <td>4.0</td>\n",
       "      <td>0.0793</td>\n",
       "    </tr>\n",
       "  </tbody>\n",
       "</table>\n",
       "</div>"
      ],
      "text/plain": [
       "                  Time  temperature_2m  relativehumidity_2m  dewpoint_2m  \\\n",
       "0  2017-01-02 00:00:00            28.5                   85         24.5   \n",
       "1  2017-01-02 01:00:00            28.4                   86         24.7   \n",
       "2  2017-01-02 02:00:00            26.8                   91         24.5   \n",
       "3  2017-01-02 03:00:00            27.4                   88         24.3   \n",
       "4  2017-01-02 04:00:00            27.3                   88         24.1   \n",
       "\n",
       "   windspeed_10m  windspeed_100m  winddirection_10m  winddirection_100m  \\\n",
       "0           1.44            1.26                146                 162   \n",
       "1           2.06            3.99                151                 158   \n",
       "2           1.30            2.78                148                 150   \n",
       "3           1.30            2.69                 58                 105   \n",
       "4           2.47            4.43                 58                  84   \n",
       "\n",
       "   windgusts_10m   Power  \n",
       "0            1.4  0.1635  \n",
       "1            4.4  0.1424  \n",
       "2            3.2  0.1214  \n",
       "3            1.6  0.1003  \n",
       "4            4.0  0.0793  "
      ]
     },
     "execution_count": 26,
     "metadata": {},
     "output_type": "execute_result"
    }
   ],
   "source": [
    "#See the location1\n",
    "location1.head()"
   ]
  },
  {
   "cell_type": "code",
   "execution_count": 27,
   "id": "291634ec-9d87-49c8-b55f-58da3e2e51cb",
   "metadata": {},
   "outputs": [],
   "source": [
    "# Add a new column to identify the location\n",
    "location1['Location'] = 'Location1'\n",
    "location2['Location'] = 'Location2'\n",
    "location3['Location'] = 'Location3'\n",
    "location4['Location'] = 'Location4'\n",
    "\n",
    "# Concatenate the dataframes into one\n",
    "merged_data = pd.concat([location1, location2, location3, location4], ignore_index=True)"
   ]
  },
  {
   "cell_type": "code",
   "execution_count": 28,
   "id": "d84fd959-501a-4f82-8393-ce5cd606492f",
   "metadata": {},
   "outputs": [
    {
     "name": "stdout",
     "output_type": "stream",
     "text": [
      "                  Time  temperature_2m  relativehumidity_2m  dewpoint_2m  \\\n",
      "0  2017-01-02 00:00:00            28.5                   85         24.5   \n",
      "1  2017-01-02 01:00:00            28.4                   86         24.7   \n",
      "2  2017-01-02 02:00:00            26.8                   91         24.5   \n",
      "3  2017-01-02 03:00:00            27.4                   88         24.3   \n",
      "4  2017-01-02 04:00:00            27.3                   88         24.1   \n",
      "\n",
      "   windspeed_10m  windspeed_100m  winddirection_10m  winddirection_100m  \\\n",
      "0           1.44            1.26                146                 162   \n",
      "1           2.06            3.99                151                 158   \n",
      "2           1.30            2.78                148                 150   \n",
      "3           1.30            2.69                 58                 105   \n",
      "4           2.47            4.43                 58                  84   \n",
      "\n",
      "   windgusts_10m   Power   Location  \n",
      "0            1.4  0.1635  Location1  \n",
      "1            4.4  0.1424  Location1  \n",
      "2            3.2  0.1214  Location1  \n",
      "3            1.6  0.1003  Location1  \n",
      "4            4.0  0.0793  Location1  \n"
     ]
    }
   ],
   "source": [
    "# Display the first few rows of the merged dataset\n",
    "print(merged_data.head())"
   ]
  },
  {
   "cell_type": "code",
   "execution_count": 30,
   "id": "3e1a1de1-26ea-4a8d-a8cf-5abdd1da2f52",
   "metadata": {},
   "outputs": [],
   "source": [
    "# Save the merged dataset to a new CSV file\n",
    "merged_data.to_csv('merged_location.csv', index=False)"
   ]
  },
  {
   "cell_type": "code",
   "execution_count": 29,
   "id": "14ec8adb-5bb5-457a-a5fe-838082d5ed03",
   "metadata": {},
   "outputs": [
    {
     "name": "stdout",
     "output_type": "stream",
     "text": [
      "<class 'pandas.core.frame.DataFrame'>\n",
      "RangeIndex: 175200 entries, 0 to 175199\n",
      "Data columns (total 11 columns):\n",
      " #   Column               Non-Null Count   Dtype  \n",
      "---  ------               --------------   -----  \n",
      " 0   Time                 175200 non-null  object \n",
      " 1   temperature_2m       175200 non-null  float64\n",
      " 2   relativehumidity_2m  175200 non-null  int64  \n",
      " 3   dewpoint_2m          175200 non-null  float64\n",
      " 4   windspeed_10m        175200 non-null  float64\n",
      " 5   windspeed_100m       175200 non-null  float64\n",
      " 6   winddirection_10m    175200 non-null  int64  \n",
      " 7   winddirection_100m   175200 non-null  int64  \n",
      " 8   windgusts_10m        175200 non-null  float64\n",
      " 9   Power                175200 non-null  float64\n",
      " 10  Location             175200 non-null  object \n",
      "dtypes: float64(6), int64(3), object(2)\n",
      "memory usage: 14.7+ MB\n"
     ]
    }
   ],
   "source": [
    "# To see the basic information about the dataset\n",
    "# To see the basic information about the dataset\n",
    "merged_data.info()"
   ]
  },
  {
   "cell_type": "markdown",
   "id": "fcf370af-1c0c-484a-a7b9-63c2a1111035",
   "metadata": {},
   "source": [
    "# Check the statistics of dataset\n",
    "merged_data.describe().T\n"
   ]
  },
  {
   "cell_type": "code",
   "execution_count": 31,
   "id": "5c511a90-97ae-45f3-beb1-0da67bff6b96",
   "metadata": {},
   "outputs": [
    {
     "data": {
      "text/plain": [
       "Time                   0\n",
       "temperature_2m         0\n",
       "relativehumidity_2m    0\n",
       "dewpoint_2m            0\n",
       "windspeed_10m          0\n",
       "windspeed_100m         0\n",
       "winddirection_10m      0\n",
       "winddirection_100m     0\n",
       "windgusts_10m          0\n",
       "Power                  0\n",
       "Location               0\n",
       "dtype: int64"
      ]
     },
     "execution_count": 31,
     "metadata": {},
     "output_type": "execute_result"
    }
   ],
   "source": [
    "# Check the missing values\n",
    "merged_data.isnull().sum()"
   ]
  },
  {
   "cell_type": "code",
   "execution_count": 42,
   "id": "8c1a9a7b-f5f8-42d0-8223-f813a6a07b25",
   "metadata": {},
   "outputs": [
    {
     "data": {
      "text/plain": [
       "0"
      ]
     },
     "execution_count": 42,
     "metadata": {},
     "output_type": "execute_result"
    }
   ],
   "source": [
    "#To check the duplicated rows\n",
    "merged_data.duplicated().sum()"
   ]
  },
  {
   "cell_type": "code",
   "execution_count": 32,
   "id": "c3aaa2f2-a95b-438b-9651-33bc36f80def",
   "metadata": {},
   "outputs": [
    {
     "name": "stdout",
     "output_type": "stream",
     "text": [
      "                  Time  temperature_2m  relativehumidity_2m  dewpoint_2m  \\\n",
      "0  2017-01-02 00:00:00            28.5                   85         24.5   \n",
      "1  2017-01-02 01:00:00            28.4                   86         24.7   \n",
      "2  2017-01-02 02:00:00            26.8                   91         24.5   \n",
      "3  2017-01-02 03:00:00            27.4                   88         24.3   \n",
      "4  2017-01-02 04:00:00            27.3                   88         24.1   \n",
      "\n",
      "   windspeed_10m  windspeed_100m  winddirection_10m  winddirection_100m  \\\n",
      "0           1.44            1.26                146                 162   \n",
      "1           2.06            3.99                151                 158   \n",
      "2           1.30            2.78                148                 150   \n",
      "3           1.30            2.69                 58                 105   \n",
      "4           2.47            4.43                 58                  84   \n",
      "\n",
      "   windgusts_10m   Power  Location_Location2  Location_Location3  \\\n",
      "0            1.4  0.1635               False               False   \n",
      "1            4.4  0.1424               False               False   \n",
      "2            3.2  0.1214               False               False   \n",
      "3            1.6  0.1003               False               False   \n",
      "4            4.0  0.0793               False               False   \n",
      "\n",
      "   Location_Location4  \n",
      "0               False  \n",
      "1               False  \n",
      "2               False  \n",
      "3               False  \n",
      "4               False  \n"
     ]
    }
   ],
   "source": [
    "# Encode categorical variable 'Location'\n",
    "# Encode categorical variable 'Location'\n",
    "merged_data = pd.get_dummies(merged_data, columns=['Location'], drop_first=True)\n",
    "\n",
    "# Check the result\n",
    "# Check the result after encoding\n",
    "print(merged_data.head())\n"
   ]
  },
  {
   "cell_type": "code",
   "execution_count": 33,
   "id": "73fc6978-98b0-4cdf-8b2a-940e441fe3bf",
   "metadata": {},
   "outputs": [
    {
     "data": {
      "text/plain": [
       "Index(['Time', 'temperature_2m', 'relativehumidity_2m', 'dewpoint_2m',\n",
       "       'windspeed_10m', 'windspeed_100m', 'winddirection_10m',\n",
       "       'winddirection_100m', 'windgusts_10m', 'Power', 'Location_Location2',\n",
       "       'Location_Location3', 'Location_Location4'],\n",
       "      dtype='object')"
      ]
     },
     "execution_count": 33,
     "metadata": {},
     "output_type": "execute_result"
    }
   ],
   "source": [
    "merged_data.columns"
   ]
  },
  {
   "cell_type": "code",
   "execution_count": 34,
   "id": "20010e91-d697-4743-89b3-965db6656eec",
   "metadata": {},
   "outputs": [],
   "source": [
    "# Let us remove time col\n",
    "# Let us check and remove the 'Time' column if it exists\n",
    "if 'Time' in merged_data.columns:\n",
    "    merged_data.drop('Time', axis=1, inplace=True)"
   ]
  },
  {
   "cell_type": "code",
   "execution_count": null,
   "id": "10022f22-f63a-40c8-b417-a9e834a25738",
   "metadata": {},
   "outputs": [],
   "source": []
  }
 ],
 "metadata": {
  "kernelspec": {
   "display_name": "Python 3 (ipykernel)",
   "language": "python",
   "name": "python3"
  },
  "language_info": {
   "codemirror_mode": {
    "name": "ipython",
    "version": 3
   },
   "file_extension": ".py",
   "mimetype": "text/x-python",
   "name": "python",
   "nbconvert_exporter": "python",
   "pygments_lexer": "ipython3",
   "version": "3.12.7"
  }
 },
 "nbformat": 4,
 "nbformat_minor": 5
}
